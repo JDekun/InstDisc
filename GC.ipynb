{
  "cells": [
    {
      "cell_type": "code",
      "execution_count": null,
      "metadata": {
        "cellView": "form",
        "id": "8KrjxUJZ95qu"
      },
      "outputs": [],
      "source": [
        "#@title 请输入数据集名称\n",
        "\n",
        "# 导入Kaggle API\n",
        "!git clone https://github.com/JDekun/Kaggle.git\n",
        "import os\n",
        "os.environ['KAGGLE_CONFIG_DIR'] = '/content/Kaggle' #注意kaggle文件夹包含json文件 \n",
        "\n",
        "!mkdir /content/input\n",
        "os.chdir('/content/input')\n",
        "\n",
        "# 数据集名字\n",
        "datasets = [\"janzenliu/cifar-10-batches-py\"]  #@param {type:\"raw\"}\n",
        "len_mydekun = len(datasets)\n",
        "\n",
        "if len_mydekun != 0:\n",
        "  for i in range(len_mydekun):\n",
        "    # 下载数据集\n",
        "    temp = datasets[i]\n",
        "    name, dataset = temp.split('/')\n",
        "    \n",
        "    zip = dataset + '.zip'\n",
        "    !kaggle datasets download -d $temp -p $dataset\n",
        "\n",
        "    # 解压数据集并删除压缩包\n",
        "    !unzip $dataset/$zip -d $dataset > /dev/null 2>&1\n",
        "    !rm -f $dataset/$zip\n",
        "\n",
        "# 设置运行时的根目录\n",
        "!mkdir /content/working\n",
        "os.chdir('/content/working')\n",
        "\n",
        "# GitHub名字\n",
        "github = [\"https://github.com/JDekun/simclr1.git\" ]  #@param {type:\"raw\"}\n",
        "len_github = len(github)\n",
        "if len_github != 0:\n",
        "  for i in range(len_github):\n",
        "    temp = github[i]\n",
        "    !git clone $temp\n",
        "\n",
        "!pwd"
      ]
    }
  ],
  "metadata": {
    "colab": {
      "include_colab_link": true,
      "name": "examle.ipynb",
      "provenance": []
    },
    "kernelspec": {
      "display_name": "Python 3.9.12 ('base')",
      "language": "python",
      "name": "python3"
    },
    "language_info": {
      "name": "python",
      "version": "3.9.12"
    },
    "orig_nbformat": 4,
    "vscode": {
      "interpreter": {
        "hash": "cc9daa352394ac6fd6b224fdae94757fb224b4aab069bc0189ad8c000c678227"
      }
    }
  },
  "nbformat": 4,
  "nbformat_minor": 0
}
