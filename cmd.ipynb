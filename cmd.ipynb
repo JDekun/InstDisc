{
  "cells": [
    {
      "cell_type": "markdown",
      "metadata": {
        "id": "orY0veNlHyKW"
      },
      "source": [
        "<a href=\"https://colab.research.google.com/github/JDekun/instdisc/blob/master/cmd.ipynb\" target=\"_parent\"><img src=\"https://colab.research.google.com/assets/colab-badge.svg\" alt=\"Open In Colab\"/></a>"
      ]
    },
    {
      "cell_type": "code",
      "execution_count": 1,
      "metadata": {
        "cellView": "form",
        "id": "22PFiyLYHyKe",
        "outputId": "fedf53e9-6794-43c0-b32a-af6c6760bb16",
        "colab": {
          "base_uri": "https://localhost:8080/"
        }
      },
      "outputs": [
        {
          "output_type": "stream",
          "name": "stdout",
          "text": [
            "Cloning into 'simclr1'...\n",
            "remote: Enumerating objects: 148, done.\u001b[K\n",
            "remote: Counting objects: 100% (148/148), done.\u001b[K\n",
            "remote: Compressing objects: 100% (107/107), done.\u001b[K\n",
            "remote: Total 148 (delta 88), reused 87 (delta 39), pack-reused 0\u001b[K\n",
            "Receiving objects: 100% (148/148), 89.71 KiB | 543.00 KiB/s, done.\n",
            "Resolving deltas: 100% (88/88), done.\n",
            "/content\n"
          ]
        }
      ],
      "source": [
        "#@title \n",
        "#@markdown\n",
        "\n",
        "######### 运行的模式 #########\n",
        "model=\"colab\" #@param {type: \"string\"}\n",
        "######### 数据集名字 #########\n",
        "datasets = [\"janzenliu/cifar-10-batches-py\"]  #@param {type:\"raw\"}\n",
        "######### GitHub名字 #########\n",
        "github = [\"https://github.com/JDekun/simclr1.git\"]  #@param {type:\"raw\"}\n",
        "\n",
        "import os\n",
        "\n",
        "if model == \"colab\":\n",
        "  # 导入Kaggle API\n",
        "  !git clone https://github.com/JDekun/Kaggle.git\n",
        "  os.environ['KAGGLE_CONFIG_DIR'] = '/content/Kaggle' #注意kaggle文件夹包含json文件 \n",
        "\n",
        "  # 构建 input 文件夹和文件\n",
        "  if not os.path.exists('/content/input'):\n",
        "    !mkdir /content/input\n",
        "  os.chdir('/content/input')\n",
        "\n",
        "  len_mydekun = len(datasets)\n",
        "  if len_mydekun != 0:\n",
        "    for i in range(len_mydekun):\n",
        "      # 下载 kaggle 数据集\n",
        "      temp = datasets[i]\n",
        "      name, dataset = temp.split('/')\n",
        "      zip = dataset + '.zip'\n",
        "      !kaggle datasets download -d $temp -p $dataset\n",
        "      # 解压数据集并删除压缩包\n",
        "      !unzip $dataset/$zip -d $dataset > /dev/null 2>&1\n",
        "      !rm -f $dataset/$zip\n",
        "\n",
        "  # 构建 working 文件夹和文件\n",
        "  if not os.path.exists('/content/working'):\n",
        "    !mkdir /content/working\n",
        "  os.chdir('/content/working')\n",
        "\n",
        "# 克隆 github 项目\n",
        "len_github = len(github)\n",
        "if len_github != 0:\n",
        "  for i in range(len_github):\n",
        "    temp = github[i]\n",
        "    !git clone $temp\n",
        "\n",
        "!pwd"
      ]
    }
  ],
  "metadata": {
    "language_info": {
      "name": "python"
    },
    "orig_nbformat": 4,
    "colab": {
      "name": "cmd.ipynb",
      "provenance": []
    },
    "kernelspec": {
      "name": "python3",
      "display_name": "Python 3"
    },
    "gpuClass": "standard",
    "accelerator": "GPU"
  },
  "nbformat": 4,
  "nbformat_minor": 0
}