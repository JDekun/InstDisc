{
 "cells": [
  {
   "cell_type": "markdown",
   "metadata": {},
   "source": [
    "<a href=\"https://colab.research.google.com/github/JDekun/instdisc/blob/master/cmd.ipynb\" target=\"_parent\"><img src=\"https://colab.research.google.com/assets/colab-badge.svg\" alt=\"Open In Colab\"/></a>"
   ]
  },
  {
   "cell_type": "code",
   "execution_count": null,
   "metadata": {},
   "outputs": [],
   "source": [
    "#@title 请输入\n",
    "\n",
    "# 导入Kaggle API\n",
    "!git clone https://github.com/JDekun/Kaggle.git\n",
    "import os\n",
    "os.environ['KAGGLE_CONFIG_DIR'] = '/content/Kaggle' #注意kaggle文件夹包含json文件 \n",
    "\n",
    "!mkdir /content/input\n",
    "os.chdir('/content/input')\n",
    "\n",
    "# 数据集名字\n",
    "datasets = [\"janzenliu/cifar-10-batches-py\"]  #@param {type:\"raw\"}\n",
    "len_mydekun = len(datasets)\n",
    "\n",
    "if len_mydekun != 0:\n",
    "  for i in range(len_mydekun):\n",
    "    # 下载数据集\n",
    "    temp = datasets[i]\n",
    "    name, dataset = temp.split('/')\n",
    "    \n",
    "    zip = dataset + '.zip'\n",
    "    !kaggle datasets download -d $temp -p $dataset\n",
    "\n",
    "    # 解压数据集并删除压缩包\n",
    "    !unzip $dataset/$zip -d $dataset > /dev/null 2>&1\n",
    "    !rm -f $dataset/$zip\n",
    "\n",
    "# 设置运行时的根目录\n",
    "!mkdir /content/working\n",
    "os.chdir('/content/working')\n",
    "\n",
    "# GitHub名字\n",
    "github = [\"https://github.com/JDekun/simclr1.git\" ]  #@param {type:\"raw\"}\n",
    "len_github = len(github)\n",
    "if len_github != 0:\n",
    "  for i in range(len_github):\n",
    "    temp = github[i]\n",
    "    !git clone $temp\n",
    "\n",
    "!pwd"
   ]
  }
 ],
 "metadata": {
  "language_info": {
   "name": "python"
  },
  "orig_nbformat": 4
 },
 "nbformat": 4,
 "nbformat_minor": 2
}
