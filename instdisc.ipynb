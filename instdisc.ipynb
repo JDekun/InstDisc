{
  "cells": [
    {
      "cell_type": "markdown",
      "metadata": {
        "id": "58rK01qxZbGa"
      },
      "source": [
        "<a href=\"https://colab.research.google.com/github/JDekun/instdisc/blob/master/instdisc.ipynb\" target=\"_parent\"><img src=\"https://colab.research.google.com/assets/colab-badge.svg\" alt=\"Open In Colab\"/></a> <a href=\"https://kaggle.com/kernels/welcome?src=https://github.com/JDekun/instdisc/blob/master/instdisc.ipynb\"><img alt=\"Kaggle\" src=\"https://kaggle.com/static/images/open-in-kaggle.svg\"></a> <a href=\"https://github.com/JDekun/instdisc\" target=\"_parent\"><img src=\"https://badgen.net/badge/icon/Open%20instdisc?icon=github&label\" alt=\"github\"/></a>"
      ]
    },
    {
      "cell_type": "code",
      "execution_count": 1,
      "metadata": {
        "cellView": "form",
        "colab": {
          "base_uri": "https://localhost:8080/"
        },
        "id": "GcrMWxXjZbGl",
        "outputId": "83461bf1-909e-441d-e446-a069d2bed3bf"
      },
      "outputs": [
        {
          "name": "stdout",
          "output_type": "stream",
          "text": [
            "###### 下载数据 ######\n",
            "Warning: Your Kaggle API key is readable by other users on this system! To fix this, you can run 'chmod 600 /content/Kaggle/kaggle.json'\n",
            "Downloading cifar-10-batches-py.zip to cifar-10-batches-py\n",
            " 95% 154M/162M [00:03<00:00, 64.1MB/s]\n",
            "100% 162M/162M [00:04<00:00, 41.7MB/s]\n",
            "###### 克隆项目 ######\n",
            "Cloning into 'instdisc'...\n",
            "remote: Enumerating objects: 201, done.\u001b[K\n",
            "remote: Counting objects: 100% (101/101), done.\u001b[K\n",
            "remote: Compressing objects: 100% (55/55), done.\u001b[K\n",
            "remote: Total 201 (delta 57), reused 86 (delta 46), pack-reused 100\u001b[K\n",
            "Receiving objects: 100% (201/201), 57.14 KiB | 11.43 MiB/s, done.\n",
            "Resolving deltas: 100% (110/110), done.\n",
            "###### 工作路径 ######\n",
            "/content/working/instdisc\n"
          ]
        }
      ],
      "source": [
        "#@title \n",
        "#@markdown\n",
        "'''\n",
        "自动化代码，当值 colab 断路\n",
        "function ConnectButton(){\n",
        "    console.log(\"Connect pushed\"); \n",
        "    document.querySelector(\"#top-toolbar > colab-connect-button\").shadowRoot.querySelector(\"#connect\").click() \n",
        "}\n",
        "setInterval(ConnectButton,60000);\n",
        "'''\n",
        "\n",
        "######### 运行的模式 #########\n",
        "model=\"colab\" #@param {type: \"string\"}\n",
        "######### 数据集名字 #########\n",
        "datasets = [\"janzenliu/cifar-10-batches-py\"]  #@param {type:\"raw\"}\n",
        "######### GitHub名字 #########\n",
        "github = [\"https://github.com/JDekun/instdisc.git\"]  #@param {type:\"raw\"}\n",
        "######### 工作路径 #########\n",
        "working = \"instdisc\"  #@param {type: \"string\"}\n",
        "######### TensorBoard #########\n",
        "tensorboard_path = \"runs/cifar\"  #@param {type: \"string\"}\n",
        "\n",
        "import os\n",
        "\n",
        "if model == \"colab\":\n",
        "  # 构建 working 文件夹和文件\n",
        "  if not os.path.exists('/content/working'):\n",
        "    !mkdir /content/working\n",
        "  os.chdir('/content/working')\n",
        "\n",
        "# 克隆 github 项目\n",
        "len_github = len(github)\n",
        "if len_github != 0:\n",
        "  print('###### 克隆项目 ######')\n",
        "  for i in range(len_github):\n",
        "    temp = github[i]\n",
        "    !git clone $temp\n",
        "\n",
        "if model == \"colab\":\n",
        "  # 导入Kaggle API\n",
        "  os.chdir('/content')\n",
        "  !git clone https://github.com/JDekun/Kaggle.git > /dev/null 2>&1\n",
        "  os.environ['KAGGLE_CONFIG_DIR'] = '/content/Kaggle' #注意kaggle文件夹包含json文件 \n",
        "\n",
        "  # 构建 input 文件夹和文件\n",
        "  if not os.path.exists('/content/input'):\n",
        "    !mkdir /content/input\n",
        "  os.chdir('/content/input')\n",
        "\n",
        "  len_mydekun = len(datasets)\n",
        "  if len_mydekun != 0:\n",
        "    print('###### 下载数据 ######')\n",
        "    for i in range(len_mydekun):\n",
        "      # 下载 kaggle 数据集\n",
        "      temp = datasets[i]\n",
        "      name, dataset = temp.split('/')\n",
        "      zip = dataset + '.zip'\n",
        "      !kaggle datasets download -d $temp -p $dataset\n",
        "      # 解压数据集并删除压缩包\n",
        "      !unzip $dataset/$zip -d $dataset > /dev/null 2>&1\n",
        "      !rm -f $dataset/$zip\n",
        "\n",
        "  # 构建 working 文件夹和文件\n",
        "  if not os.path.exists('/content/working'):\n",
        "    !mkdir /content/working\n",
        "  os.chdir('/content/working')\n",
        "\n",
        "print('###### 工作路径 ######')\n",
        "os.chdir(working)\n",
        "!pwd\n",
        "\n",
        "if model == \"colab\":\n",
        "  %reload_ext tensorboard\n",
        "  %tensorboard --logdir tensorboard_path"
      ]
    },
    {
      "cell_type": "code",
      "execution_count": null,
      "metadata": {},
      "outputs": [],
      "source": [
        "!python cifar.py --nce-k 0 --nce-t 0.1 --lr 0.03 --batch-train 2048 --batch-test 1000"
      ]
    }
  ],
  "metadata": {
    "colab": {
      "name": "instdisc.ipynb",
      "provenance": []
    },
    "kernelspec": {
      "display_name": "Python 3.9.12 ('base')",
      "language": "python",
      "name": "python3"
    },
    "language_info": {
      "codemirror_mode": {
        "name": "ipython",
        "version": 3
      },
      "file_extension": ".py",
      "mimetype": "text/x-python",
      "name": "python",
      "nbconvert_exporter": "python",
      "pygments_lexer": "ipython3",
      "version": "3.9.12"
    },
    "orig_nbformat": 4,
    "vscode": {
      "interpreter": {
        "hash": "cc9daa352394ac6fd6b224fdae94757fb224b4aab069bc0189ad8c000c678227"
      }
    }
  },
  "nbformat": 4,
  "nbformat_minor": 0
}
